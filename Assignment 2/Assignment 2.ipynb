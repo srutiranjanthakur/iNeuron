{
 "cells": [
  {
   "cell_type": "markdown",
   "metadata": {},
   "source": [
    "# Problem Statement: TASK 1"
   ]
  },
  {
   "cell_type": "raw",
   "metadata": {},
   "source": [
    "Q1.1 Write a Python Program to implement your own myreduce() function which works exactly like Python's built-in function reduce()."
   ]
  },
  {
   "cell_type": "code",
   "execution_count": 3,
   "metadata": {},
   "outputs": [
    {
     "name": "stdout",
     "output_type": "stream",
     "text": [
      "The sum of the list elements is :  20\n"
     ]
    }
   ],
   "source": [
    "# importing functools for reduce() \n",
    "import functools\n",
    "\n",
    "# initializing list \n",
    "lst = [1,5,3,2,9]\n",
    "\n",
    "# using reduce function to compute sum of the above list\n",
    "#print (\"The sum of the list elements is : \",end=\"\") \n",
    "#print (functools.reduce(lambda a,b : a+b,lst))\n",
    "\n",
    "# using own myreduce function\n",
    "def myreduce(a,b):\n",
    "    return a+b\n",
    "\n",
    "sum = functools.reduce(myreduce,lst)\n",
    "print (\"The sum of the list elements is : \",sum)\n",
    "\n",
    "#Using lambda function we can perform the same task\n",
    "#sum = functools.reduce(lambda a,b : a+b,lst)\n",
    "#print (\"The sum of the list elements is : \",sum)"
   ]
  },
  {
   "cell_type": "markdown",
   "metadata": {},
   "source": [
    "Q1.2 Write a Python program to implement your own myfilter() function which works exactly like Python's built-in function filter()."
   ]
  },
  {
   "cell_type": "code",
   "execution_count": 4,
   "metadata": {},
   "outputs": [
    {
     "name": "stdout",
     "output_type": "stream",
     "text": [
      "Prime numbers between 1-20: [3, 5, 7, 9, 11, 13, 15, 17, 19]\n"
     ]
    }
   ],
   "source": [
    "# using filter function to check the numbers are prime number or not\n",
    "def myfilter_isPrime(x):\n",
    "    for n in range(2,x):\n",
    "        if x%n==0:\n",
    "            return False\n",
    "        else:\n",
    "            return True\n",
    "\n",
    "fltrObj=filter(myfilter_isPrime, range(20))\n",
    "print ('Prime numbers between 1-20:', list(fltrObj))"
   ]
  },
  {
   "cell_type": "raw",
   "metadata": {},
   "source": [
    "Q2 Implement List comprehensions to produce the following lists. \n",
    "\n",
    "Write List comprehensions to produce the following Lists \n",
    "['A', 'C', 'A', 'D', 'G', 'I', ’L’, ‘ D’] \n",
    "['x', 'xx', 'xxx', 'xxxx', 'y', 'yy', 'yyy', 'yyyy', 'z', 'zz', 'zzz', 'zzzz'] \n",
    "['x', 'y', 'z', 'xx', 'yy', 'zz', 'xx', 'yy', 'zz', 'xxxx', 'yyyy', 'zzzz'] \n",
    "[[2], [3], [4], [3], [4], [5], [4], [5], [6]] \n",
    "[[2, 3, 4, 5], [3, 4, 5, 6], [4, 5, 6, 7], [5, 6, 7, 8]] \n",
    "[(1, 1), (2, 1), (3, 1), (1, 2), (2, 2), (3, 2), (1, 3), (2, 3), (3, 3)] "
   ]
  },
  {
   "cell_type": "code",
   "execution_count": 24,
   "metadata": {},
   "outputs": [
    {
     "name": "stdout",
     "output_type": "stream",
     "text": [
      "ACADGILD => ['A', 'C', 'A', 'D', 'G', 'I', 'L', 'D']\n",
      "['x','y','z'] => ['x', 'xx', 'xxx', 'xxxx', 'y', 'yy', 'yyy', 'yyyy', 'z', 'zz', 'zzz', 'zzzz']\n",
      "['x','y','z'] => ['x', 'y', 'z', 'xx', 'yy', 'zz', 'xxx', 'yyy', 'zzz', 'xxxx', 'yyyy', 'zzzz']\n",
      "[2,3,4] =>[[2], [3], [4], [3], [4], [5], [4], [5], [6]]\n",
      "[2,3,4,5] =>[[2, 3, 4, 5], [3, 4, 5, 6], [4, 5, 6, 7], [5, 6, 7, 8]]\n",
      "[1,2,3] =>[(1, 1), (2, 1), (3, 1), (1, 2), (2, 2), (3, 2), (1, 3), (2, 3), (3, 3)]\n"
     ]
    }
   ],
   "source": [
    "#['A', 'C', 'A', 'D', 'G', 'I', ’L’, ‘ D’] \n",
    "word = 'ACADGILD'\n",
    "ch_list = [ch for ch in word]\n",
    "print (\"ACADGILD => \" + str(ch_list))\n",
    "\n",
    "#['x', 'xx', 'xxx', 'xxxx', 'y', 'yy', 'yyy', 'yyyy', 'z', 'zz', 'zzz', 'zzzz'] \n",
    "lst = ['x','y','z']\n",
    "result = [item*num for item in lst for num in range(1,5)]\n",
    "print(\"['x','y','z'] => \" + str(result))\n",
    "\n",
    "#['x', 'y', 'z', 'xx', 'yy', 'zz', 'xx', 'yy', 'zz', 'xxxx', 'yyyy', 'zzzz'] \n",
    "lst = ['x','y','z']\n",
    "result = [item*num for num in range(1,5) for item in lst]\n",
    "print(\"['x','y','z'] => \" + str(result))\n",
    "\n",
    "#[[2], [3], [4], [3], [4], [5], [4], [5], [6]] \n",
    "lst = [2,3,4]\n",
    "result = [ [item+num] for item in lst for num in range(0,3)]\n",
    "print(\"[2,3,4] =>\" + str(result))\n",
    "\n",
    "#[[2, 3, 4, 5], [3, 4, 5, 6], [4, 5, 6, 7], [5, 6, 7, 8]] \n",
    "lst = [2,3,4,5]\n",
    "result = [[item+num for item in lst] for num in range(0,4)]\n",
    "print(\"[2,3,4,5] =>\" + str(result))\n",
    "\n",
    "#[(1, 1), (2, 1), (3, 1), (1, 2), (2, 2), (3, 2), (1, 3), (2, 3), (3, 3)] \n",
    "lst = [1,2,3]\n",
    "result = [(y,x) for x in lst for y in lst]\n",
    "print(\"[1,2,3] =>\" + str(result))"
   ]
  },
  {
   "cell_type": "markdown",
   "metadata": {},
   "source": [
    "Q3 Implement a function longestWord() that takes a list of words and returns the longest one."
   ]
  },
  {
   "cell_type": "code",
   "execution_count": 25,
   "metadata": {},
   "outputs": [
    {
     "name": "stdout",
     "output_type": "stream",
     "text": [
      "Airtificial Intelligence\n"
     ]
    }
   ],
   "source": [
    "#define function longestWord\n",
    "def longestWord(words_lst):  \n",
    "    word_len = []  \n",
    "    for n in words_lst:  \n",
    "        word_len.append((len(n), n))  \n",
    "    word_len.sort()  \n",
    "    return word_len[-1][1]  \n",
    "  \n",
    "print(longestWord([\"Machine Learning\", \"Deep Learning\", \"Airtificial Intelligence\"]))"
   ]
  },
  {
   "cell_type": "markdown",
   "metadata": {},
   "source": [
    "# Task 2: "
   ]
  },
  {
   "cell_type": "markdown",
   "metadata": {},
   "source": [
    "Q1.1 Write a Python Program(with class concepts) to find the area of the triangle using the below formula. \n",
    " \n",
    "area = (s*(s-a)*(s-b)*(s-c)) ** 0.5 \n",
    " \n",
    "Function to take the length of the sides of triangle from user should be defined in the parent class and function to calculate the area should be defined in subclass. "
   ]
  },
  {
   "cell_type": "code",
   "execution_count": 38,
   "metadata": {},
   "outputs": [
    {
     "name": "stdout",
     "output_type": "stream",
     "text": [
      "Enter first side: 5\n",
      "Enter second side: 6\n",
      "Enter third side: 7\n",
      "Area of the Triangle is : 14.696938456699069\n"
     ]
    }
   ],
   "source": [
    "import sys\n",
    "import math\n",
    "\n",
    "class Triangle():\n",
    "    def __init__(self):\n",
    "        self.a = float(input('Enter first side: '))\n",
    "        self.b = float(input('Enter second side: '))\n",
    "        self.c = float(input('Enter third side: '))\n",
    "        \n",
    "class Area_of_triangle(Triangle):\n",
    "    def findArea(self):\n",
    "        s=(self.a + self.b + self.c)/2\n",
    "        area=float(math.sqrt(s*(s-self.a)*(s-self.b)*(s-self.c)))\n",
    "        #area = (s*(s-self.a)*(s-self.b)*(s-self.c)) ** 0.5 \n",
    "        return area\n",
    "\n",
    "if __name__ == \"__main__\":\n",
    "    a = Area_of_triangle()\n",
    "    print(\"Area of the Triangle is :\",a.findArea())"
   ]
  },
  {
   "cell_type": "markdown",
   "metadata": {},
   "source": [
    "Q1.2 Write a function filter_long_words() that takes a list of words and an integer n and returns the list of words that are longer than n. "
   ]
  },
  {
   "cell_type": "code",
   "execution_count": 37,
   "metadata": {},
   "outputs": [
    {
     "name": "stdout",
     "output_type": "stream",
     "text": [
      "Enter the list of words separated by comma: ML,Deep,AI,Learning\n",
      "Minimum length of words to keep: 3\n",
      "Words longer than 3 are Deep, Learning\n"
     ]
    }
   ],
   "source": [
    "def filter_long_words(wordlist,n):\n",
    "    return filter(lambda word:len(word)>n, wordlist)\n",
    "\n",
    "def main():\n",
    "    words = input(\"Enter the list of words separated by comma: \").split(',')\n",
    "    length = int(input(\"Minimum length of words to keep: \"))\n",
    "    print(\"Words longer than {} are {}\".format(length,', '.join(filter_long_words(words, length))))\n",
    "\n",
    "if __name__ == \"__main__\":\n",
    "    main()\n",
    "\n",
    "#If we want the return value to be list then we can use \n",
    "\n",
    "#words = filter_long_words([\"ML\",\"Deep\",\"Learning\"],4)\n",
    "#print(\"List of words longer than n:\",list(words))"
   ]
  },
  {
   "cell_type": "raw",
   "metadata": {},
   "source": [
    "Q2.1 Write a Python program using function concept that maps list of words into a list of integers representing the lengths of the corresponding words​. \n",
    " Hint: ​If a list [ ab,cde,erty] is passed on to the python function output should come as [2,3,4] \n",
    " Here 2,3 and 4 are the lengths of the words in the list."
   ]
  },
  {
   "cell_type": "code",
   "execution_count": 35,
   "metadata": {},
   "outputs": [
    {
     "name": "stdout",
     "output_type": "stream",
     "text": [
      "Length of words in the list are : [2, 3, 4]\n"
     ]
    }
   ],
   "source": [
    "def map_to_lengths_lists(words):\n",
    "    return [len(word) for word in words]\n",
    "\n",
    "if __name__ == \"__main__\":\n",
    "    words = ['ab','cde','erty']\n",
    "    print(\"Length of words in the list are :\",map_to_lengths_lists(words))"
   ]
  },
  {
   "cell_type": "raw",
   "metadata": {},
   "source": [
    "Q2.2 Write a Python function which takes a character (i.e. a string of length 1) and returns True if it is a vowel, False otherwise. "
   ]
  },
  {
   "cell_type": "code",
   "execution_count": 41,
   "metadata": {},
   "outputs": [
    {
     "name": "stdout",
     "output_type": "stream",
     "text": [
      "Enter the character: h\n",
      "False\n"
     ]
    }
   ],
   "source": [
    "def is_vowel(char):\n",
    "    #store values in tuple as the vowels are fixed\n",
    "    vowels = ('a', 'e', 'i', 'o', 'u')\n",
    "    if char not in vowels:\n",
    "        return False\n",
    "    return True\n",
    "\n",
    "if __name__ == \"__main__\":\n",
    "    ch = str(input(\"Enter the character: \"))\n",
    "    print(is_vowel(ch))"
   ]
  }
 ],
 "metadata": {
  "kernelspec": {
   "display_name": "Python 3",
   "language": "python",
   "name": "python3"
  },
  "language_info": {
   "codemirror_mode": {
    "name": "ipython",
    "version": 3
   },
   "file_extension": ".py",
   "mimetype": "text/x-python",
   "name": "python",
   "nbconvert_exporter": "python",
   "pygments_lexer": "ipython3",
   "version": "3.6.5"
  }
 },
 "nbformat": 4,
 "nbformat_minor": 2
}
